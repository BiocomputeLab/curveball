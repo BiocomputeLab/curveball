{
 "cells": [
  {
   "cell_type": "code",
   "execution_count": 1,
   "metadata": {
    "collapsed": false
   },
   "outputs": [],
   "source": [
    "import numpy as np\n",
    "import matplotlib.pyplot as plt\n",
    "\n",
    "fig = plt.figure()\n",
    "ax = fig.add_subplot(111, xlim=(-1, 2), ylim=(-1, 2))\n",
    "polygon = plt.Polygon([[0, 0], [1, 0], [1, 1], [0, 1], [0, 0]])\n",
    "ax.add_patch(polygon)\n",
    "\n",
    "# Function to be called when mouse is clicked\n",
    "def on_click(event):\n",
    "    if polygon.contains_point((event.x, event.y)):\n",
    "        polygon.set_facecolor(np.random.random(3))\n",
    "        fig.canvas.draw()\n",
    "\n",
    "# Connect the click function to the button press event\n",
    "fig.canvas.mpl_connect('button_press_event', on_click)\n",
    "plt.show()"
   ]
  },
  {
   "cell_type": "code",
   "execution_count": 1,
   "metadata": {
    "collapsed": true
   },
   "outputs": [],
   "source": [
    "\"\"\"\n",
    "Matplotlib microplate visualization\n",
    "----------------------\n",
    "A simple microplate implementation in matplotlib.\n",
    "Based on https://jakevdp.github.io/blog/2012/12/06/minesweeper-in-matplotlib/\n",
    "\n",
    "Author: Yoav Ram <yoavram@gmail.com>, Mar. 2015\n",
    "License: BSD\n",
    "\"\"\"\n",
    "import numpy as np\n",
    "from itertools import product\n",
    "from scipy.signal import convolve2d\n",
    "import matplotlib.pyplot as plt\n",
    "from matplotlib.patches import RegularPolygon"
   ]
  },
  {
   "cell_type": "code",
   "execution_count": 2,
   "metadata": {
    "collapsed": true
   },
   "outputs": [],
   "source": [
    "class Plate(object):\n",
    "    edge_color = '#888888'    \n",
    "  \n",
    "    @classmethod\n",
    "    def regular(cls, nstrains=2):\n",
    "        return cls(12, 8, nstrains)\n",
    "\n",
    "    @classmethod\n",
    "    def from_csv(cls, filename):\n",
    "        strains = np.loadtxt(filename, dtype=int, delimiter=', ')\n",
    "        strains = np.rot90(strains, 3)\n",
    "        nstrains = len(np.unique(strains))\n",
    "        if not 0 in strains:\n",
    "            nstrains += 1            \n",
    "        plate = cls(strains.shape[0], strains.shape[1], nstrains)\n",
    "        plate.strains = strains\n",
    "        for i in range(plate.width):\n",
    "            for j in range(plate.height):\n",
    "                col = strains[i,j]\n",
    "                if col > 0:\n",
    "                    col = plate.colors[col]                \n",
    "                    plate.squares[i,j].set_facecolor(col)   \n",
    "        return plate\n",
    "    \n",
    "    def __repr__(self):\n",
    "        return str(np.rot90(self.strains))\n",
    "  \n",
    "    def __init__(self, width, height, nstrains):\n",
    "        self.width, self.height, self.nstrains = width, height, nstrains+1     \n",
    "\n",
    "        self.colors = ['none', 'blue', 'green', 'red', 'darkblue',\n",
    "                    'darkred', 'darkgreen', 'black', 'black'][:self.nstrains]\n",
    "    \n",
    "        # Create the figure and axes\n",
    "        self.fig = plt.figure(figsize=((width + 2) / 3., (height + 2) / 3.))\n",
    "        self.ax = self.fig.add_axes((0.05, 0.05, 0.9, 0.9),\n",
    "                                    aspect='equal', frameon=False,\n",
    "                                    xlim=(-0.05, width + 0.05),\n",
    "                                    ylim=(-0.05, height + 0.05))\n",
    "        for axis in (self.ax.xaxis, self.ax.yaxis):\n",
    "            axis.set_major_formatter(plt.NullFormatter())\n",
    "            axis.set_major_locator(plt.NullLocator())\n",
    "\n",
    "        # Create the grid of squares\n",
    "        self.squares = np.array([[RegularPolygon((i + 0.5, j + 0.5),\n",
    "                                                 numVertices=4,\n",
    "                                                 radius=0.5 * np.sqrt(2),\n",
    "                                                 orientation=np.pi / 4,\n",
    "                                                 ec=self.edge_color,\n",
    "                                                 fc=self.colors[0])\n",
    "                                  for j in range(height)]\n",
    "                                 for i in range(width)])\n",
    "        [self.ax.add_patch(sq) for sq in self.squares.flat]  \n",
    "        self.strains = np.zeros((width, height), dtype=int)\n",
    "        # Create event hook for mouse clicks\n",
    "        self.fig.canvas.mpl_connect('button_press_event', self._button_press)\n",
    "                \n",
    "    \n",
    "    def _click_square(self, i, j):        \n",
    "        col = self.strains[i,j]\n",
    "        col = (col + 1) % self.nstrains\n",
    "        self.strains[i,j] = col\n",
    "        col = self.colors[col]                \n",
    "        self.squares[i,j].set_facecolor(col)\n",
    "\n",
    "    def _button_press(self, event):\n",
    "        if (event.xdata is None) or (event.ydata is None):\n",
    "            return\n",
    "        i, j = map(int, (event.xdata, event.ydata))\n",
    "        if (i < 0 or j < 0 or i >= self.width or j >= self.height):\n",
    "            return\n",
    "       \n",
    "        self._click_square(i, j)        \n",
    "\n",
    "        self.fig.canvas.draw()\n",
    "\n",
    "    def to_csv(self, fname):        \n",
    "        return np.savetxt(fname, np.rot90(plate.strains), fmt='%d', delimiter=', ')"
   ]
  },
  {
   "cell_type": "code",
   "execution_count": 3,
   "metadata": {
    "collapsed": false
   },
   "outputs": [],
   "source": [
    "from curveball import Plate\n",
    "import matplotlib.pyplot as plt\n",
    "import numpy as np"
   ]
  },
  {
   "cell_type": "code",
   "execution_count": 8,
   "metadata": {
    "collapsed": false
   },
   "outputs": [],
   "source": [
    "plate = Plate.ninety_six_well(4)\n",
    "plt.show()"
   ]
  },
  {
   "cell_type": "code",
   "execution_count": 5,
   "metadata": {
    "collapsed": false
   },
   "outputs": [
    {
     "data": {
      "text/plain": [
       "[[1 2 1 2 1 2 1 2 1 2 1 2]\n",
       " [0 0 0 0 0 0 0 0 0 0 0 0]\n",
       " [0 0 0 0 0 0 0 0 0 0 0 0]\n",
       " [0 0 0 0 0 0 0 0 0 0 0 0]\n",
       " [0 0 0 0 0 0 0 0 0 0 0 0]\n",
       " [0 0 0 0 0 0 0 0 0 0 0 0]\n",
       " [0 0 0 0 0 0 0 0 0 0 0 0]\n",
       " [0 0 0 0 0 0 0 0 0 0 0 0]]"
      ]
     },
     "execution_count": 5,
     "metadata": {},
     "output_type": "execute_result"
    }
   ],
   "source": [
    "plate"
   ]
  },
  {
   "cell_type": "code",
   "execution_count": 6,
   "metadata": {
    "collapsed": false
   },
   "outputs": [],
   "source": [
    "plate.to_csv('strains.csv')"
   ]
  },
  {
   "cell_type": "code",
   "execution_count": 14,
   "metadata": {
    "collapsed": false
   },
   "outputs": [
    {
     "name": "stdout",
     "output_type": "stream",
     "text": [
      "/home/yoavram/workspace/curveball_project/curveball/notebooks\r\n"
     ]
    }
   ],
   "source": [
    "!pwd"
   ]
  },
  {
   "cell_type": "code",
   "execution_count": 7,
   "metadata": {
    "collapsed": false
   },
   "outputs": [
    {
     "name": "stdout",
     "output_type": "stream",
     "text": [
      "1, 2, 1, 2, 1, 2, 1, 2, 1, 2, 1, 2\r\n",
      "0, 0, 0, 0, 0, 0, 0, 0, 0, 0, 0, 0\r\n",
      "0, 0, 0, 0, 0, 0, 0, 0, 0, 0, 0, 0\r\n",
      "0, 0, 0, 0, 0, 0, 0, 0, 0, 0, 0, 0\r\n",
      "0, 0, 0, 0, 0, 0, 0, 0, 0, 0, 0, 0\r\n",
      "0, 0, 0, 0, 0, 0, 0, 0, 0, 0, 0, 0\r\n",
      "0, 0, 0, 0, 0, 0, 0, 0, 0, 0, 0, 0\r\n",
      "0, 0, 0, 0, 0, 0, 0, 0, 0, 0, 0, 0\r\n"
     ]
    }
   ],
   "source": [
    "!cat strains.csv"
   ]
  },
  {
   "cell_type": "code",
   "execution_count": 16,
   "metadata": {
    "collapsed": false
   },
   "outputs": [],
   "source": [
    "plate  = Plate.from_csv('strains.csv')\n",
    "plt.show()"
   ]
  },
  {
   "cell_type": "code",
   "execution_count": 21,
   "metadata": {
    "collapsed": false
   },
   "outputs": [
    {
     "data": {
      "text/plain": [
       "array([[0, 0, 0, 0, 0, 0, 1, 1],\n",
       "       [0, 0, 0, 0, 0, 0, 1, 1],\n",
       "       [0, 0, 0, 0, 2, 2, 0, 0],\n",
       "       [0, 0, 0, 0, 2, 2, 0, 0],\n",
       "       [0, 0, 3, 3, 0, 0, 0, 0],\n",
       "       [0, 0, 3, 3, 0, 0, 0, 0],\n",
       "       [4, 4, 0, 0, 0, 0, 0, 0],\n",
       "       [4, 4, 0, 0, 0, 0, 0, 0],\n",
       "       [0, 0, 0, 0, 0, 0, 0, 0],\n",
       "       [0, 0, 0, 0, 0, 0, 0, 0],\n",
       "       [0, 0, 0, 0, 0, 0, 0, 0],\n",
       "       [0, 0, 0, 0, 0, 0, 0, 0]])"
      ]
     },
     "execution_count": 21,
     "metadata": {},
     "output_type": "execute_result"
    }
   ],
   "source": [
    "plate.strains"
   ]
  },
  {
   "cell_type": "code",
   "execution_count": 24,
   "metadata": {
    "collapsed": false
   },
   "outputs": [
    {
     "data": {
      "text/plain": [
       "array([[0, 0, 0, 0, 0, 0, 1, 1],\n",
       "       [0, 0, 0, 0, 0, 0, 1, 1],\n",
       "       [0, 0, 0, 0, 2, 2, 0, 0],\n",
       "       [0, 0, 0, 0, 2, 2, 0, 0],\n",
       "       [0, 0, 3, 3, 0, 0, 0, 0],\n",
       "       [0, 0, 3, 3, 0, 0, 0, 0],\n",
       "       [4, 4, 0, 0, 0, 0, 0, 0],\n",
       "       [4, 4, 0, 0, 0, 0, 0, 0],\n",
       "       [0, 0, 0, 0, 0, 0, 0, 0],\n",
       "       [0, 0, 0, 0, 0, 0, 0, 0],\n",
       "       [0, 0, 0, 0, 0, 0, 0, 0],\n",
       "       [0, 0, 0, 0, 0, 0, 0, 0]])"
      ]
     },
     "execution_count": 24,
     "metadata": {},
     "output_type": "execute_result"
    }
   ],
   "source": [
    "np.array([[0, 0, 0, 0, 0, 0, 1, 1],\n",
    "       [0, 0, 0, 0, 0, 0, 1, 1],\n",
    "       [0, 0, 0, 0, 2, 2, 0, 0],\n",
    "       [0, 0, 0, 0, 2, 2, 0, 0],\n",
    "       [0, 0, 3, 3, 0, 0, 0, 0],\n",
    "       [0, 0, 3, 3, 0, 0, 0, 0],\n",
    "       [4, 4, 0, 0, 0, 0, 0, 0],\n",
    "       [4, 4, 0, 0, 0, 0, 0, 0],\n",
    "       [0, 0, 0, 0, 0, 0, 0, 0],\n",
    "       [0, 0, 0, 0, 0, 0, 0, 0],\n",
    "       [0, 0, 0, 0, 0, 0, 0, 0],\n",
    "       [0, 0, 0, 0, 0, 0, 0, 0]])"
   ]
  },
  {
   "cell_type": "code",
   "execution_count": null,
   "metadata": {
    "collapsed": true
   },
   "outputs": [],
   "source": []
  }
 ],
 "metadata": {
  "kernelspec": {
   "display_name": "Python 2",
   "language": "python",
   "name": "python2"
  },
  "language_info": {
   "codemirror_mode": {
    "name": "ipython",
    "version": 2
   },
   "file_extension": ".py",
   "mimetype": "text/x-python",
   "name": "python",
   "nbconvert_exporter": "python",
   "pygments_lexer": "ipython2",
   "version": "2.7.3"
  }
 },
 "nbformat": 4,
 "nbformat_minor": 0
}
