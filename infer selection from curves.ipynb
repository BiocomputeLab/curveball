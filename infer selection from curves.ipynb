{
 "metadata": {
  "name": "",
  "signature": "sha256:8133e7213e58bdf50f992e4973f00ce4deee94b6a35d24c596015bf802956f54"
 },
 "nbformat": 3,
 "nbformat_minor": 0,
 "worksheets": [
  {
   "cells": [
    {
     "cell_type": "code",
     "collapsed": false,
     "input": [
      "import csv\n",
      "from IPython.html.widgets import interact"
     ],
     "language": "python",
     "metadata": {},
     "outputs": [],
     "prompt_number": 9
    },
    {
     "cell_type": "markdown",
     "metadata": {},
     "source": [
      "$$\n",
      "y(t) = \\frac{A}{1 + exp(\\frac{4 \\mu}{A} (\\lambda - t) + 2)}\n",
      "$$"
     ]
    },
    {
     "cell_type": "markdown",
     "metadata": {},
     "source": [
      "$$\n",
      "\\frac{dy}{dt}(t) = \\frac{4\\mu \\cdot exp(\\frac{4 \\mu}{A} (\\lambda -t) + 2)}{}\n",
      "$$"
     ]
    },
    {
     "cell_type": "code",
     "collapsed": false,
     "input": [
      "def logistic(t, model):\n",
      "    A, mu, lam = float(model['A.model']), float(model['mu.model']), float(model['lambda.model'])\n",
      "    return A / ( 1 + exp( 4 * mu / A * (lam - t) + 2 ) )"
     ],
     "language": "python",
     "metadata": {},
     "outputs": [],
     "prompt_number": 2
    },
    {
     "cell_type": "code",
     "collapsed": false,
     "input": [
      "def gompertz_exp(t, model):\n",
      "    raise NotImplementedError()\n",
      "    A, mu, lam, alfa, tshift = float(model['A.model']), float(model['mu.model']), float(model['lam.model']), float(model['alpha.model']), float(model['tshift.model'])\n",
      "    return A * exp( -exp( mu*e/A * (lam - t) + 1 ) ) + A * exp( alfa * (t - tshift) )"
     ],
     "language": "python",
     "metadata": {},
     "outputs": [],
     "prompt_number": 3
    },
    {
     "cell_type": "code",
     "collapsed": false,
     "input": [
      "def richards(t, model):\n",
      "    raise NotImplementedError()\n",
      "    A, mu, nu, lam = float(model['A.model']), float(model['mu.model']), float(model['.model']), float(model['lambda.model'])\n",
      "    return A * ( 1 + nu * exp( 1 + nu + mu/A * (1 + nu)**(1 + 1/nu) * (lam - t) ) )**(-1/nu)"
     ],
     "language": "python",
     "metadata": {},
     "outputs": [],
     "prompt_number": 4
    },
    {
     "cell_type": "code",
     "collapsed": false,
     "input": [
      "funcs = {'logistic':logistic}"
     ],
     "language": "python",
     "metadata": {},
     "outputs": [],
     "prompt_number": 5
    },
    {
     "cell_type": "code",
     "collapsed": false,
     "input": [
      "with open(\"gcfit_assay.csv\") as f:\n",
      "    rd = csv.DictReader(f)\n",
      "    assay_models = [row for row in rd]\n",
      "with open(\"gcfit_control.csv\") as f:\n",
      "    rd = csv.DictReader(f)\n",
      "    control_models = [row for row in rd]"
     ],
     "language": "python",
     "metadata": {},
     "outputs": [],
     "prompt_number": 6
    },
    {
     "cell_type": "code",
     "collapsed": false,
     "input": [
      "assay = assay_models[randint(len(assay_models))]\n",
      "control = control_models[randint(len(control_models))]"
     ],
     "language": "python",
     "metadata": {},
     "outputs": [],
     "prompt_number": 7
    },
    {
     "cell_type": "code",
     "collapsed": false,
     "input": [
      "T = 24\n",
      "plot(arange(T), funcs.get(assay['used.model'],logistic)(arange(T), assay), 'r');\n",
      "plot(arange(T), funcs.get(control['used.model'],logistic)(arange(T), control), 'b');"
     ],
     "language": "python",
     "metadata": {},
     "outputs": [
      {
       "metadata": {},
       "output_type": "display_data",
       "png": "[encoded data removed]",
       "text": [
        "<matplotlib.figure.Figure at 0xb54f9b0>"
       ]
      }
     ],
     "prompt_number": 13
    },
    {
     "cell_type": "code",
     "collapsed": false,
     "input": [],
     "language": "python",
     "metadata": {},
     "outputs": []
    }
   ],
   "metadata": {}
  }
 ]
}